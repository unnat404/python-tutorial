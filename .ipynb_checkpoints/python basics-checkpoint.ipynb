{
 "cells": [
  {
   "cell_type": "markdown",
   "metadata": {},
   "source": [
    "# Math opertors in python"
   ]
  },
  {
   "cell_type": "code",
   "execution_count": 11,
   "metadata": {},
   "outputs": [
    {
     "name": "stdout",
     "output_type": "stream",
     "text": [
      "7.5\n",
      "7.5\n",
      "7\n",
      "8\n",
      "42.43998894277659\n",
      "99.99\n"
     ]
    }
   ],
   "source": [
    "# aritmetic operators\n",
    "print(15/2)\n",
    "print(15.0/2)\n",
    "print(15//2) #integer division / floor div\n",
    "print(2**3) # power operator\n",
    "print(pow(2.3,4.5)) # power alternative function\n",
    "print(abs(-99.99))"
   ]
  },
  {
   "cell_type": "code",
   "execution_count": 13,
   "metadata": {},
   "outputs": [
    {
     "name": "stdout",
     "output_type": "stream",
     "text": [
      "sin is : 2.65358979335273e-06\n",
      "1.7724531023414978\n",
      "1.1447290411851783\n",
      "23.14063122695496\n"
     ]
    }
   ],
   "source": [
    "import math \n",
    "print('sin is : {}'.format(math.sin(3.14159)))\n",
    "print(math.sqrt(3.14159))\n",
    "print(math.log(3.14159))\n",
    "print(math.exp(3.14159))"
   ]
  },
  {
   "cell_type": "code",
   "execution_count": null,
   "metadata": {},
   "outputs": [],
   "source": [
    "# logical operators\n",
    "# Operator\tUsage\tDescription\n",
    "# and\tx and y\tTrue if both sides of the operator is True\n",
    "# or\tx or y\tTrue if either of the operand is True\n",
    "# not\tnot x\tComplements the operand\n",
    "\n",
    "# Assignment operators\n",
    "# Operator\tUsage\tDescription\n",
    "# ==\ta == b\tReturns True if the values on the either side of the operator is equal otherwise False.\n",
    "# !=\ta != b\tReturns True if the values on either sides of the operator is not equal to each other otherwise False.\n",
    "# >\ta > b\tReturns True if the value of the operand on the left of the operator is greater than the value on the right side of the operator.\n",
    "# <\ta < b\tReturns True if the value of the operand on the left of the operator is less than the value on the right side of the operator.\n",
    "# >=\ta >= b\tReturns True if the value of the operand on the left of the operator is greater than or equal to the value on the right side of the operator.\n",
    "# <=\ta <= b\tReturns True if the value of the operand on the left of the operator is less than or equal to the value on the right side of the operator.\n",
    "\n",
    "# Bitwise operators\n",
    "# Operator\tUsage\tDescription\n",
    "# & Binary AND\t(a & b)\tOperator copies a bit to the result if it exists in both operands.\n",
    "# | Binary OR\t(a | b)\t\n",
    "# ^ Binary XOR\t(a ^ b)\tIt copies the bit if it is set in one operand but not both.\n",
    "# ~ 1's complement\t(~a)\tIt is unary and has the effect of 'flipping' bits.\n",
    "# << Binary Left Shift\ta << 2\tThe left operands value is moved left by the number of bits specified by the right operand.\n",
    "# >> Binary Right Shift\ta >> 2\tThe left operands value is moved right by the number of bits specified by the right operand.\n",
    "\n",
    "# Membership operators\n",
    "# Operator\tUsage\tDescription\n",
    "# in\tx in y\tTrue if the value/operand in the left of the operator is present in the sequence in the right of the operator.\n",
    "# not in\tx not in y\tTrue if the value/operand in the left of the operator is not present in the sequence in the right of the operator.\n",
    "\n",
    "# Identity operators\n",
    "# Operator\tUsage\tDescription\n",
    "# is\tx is True\tTrue if both the operands refer to the same object.\n",
    "# is not\tx is not True\tEvaluates to false if the variables on either side of the operator point to the same object and true otherwise.\n"
   ]
  },
  {
   "cell_type": "markdown",
   "metadata": {},
   "source": [
    "# Line Continuation:"
   ]
  },
  {
   "cell_type": "code",
   "execution_count": null,
   "metadata": {},
   "outputs": [],
   "source": [
    "# Line Continuation: To write a code in multiline without confusing the python interpreter,\n",
    "# is by using a backslash \\ at the end of each line to explicitly denote line continuation. For example,\n",
    "sum =  13 + \\\n",
    "       46 + \\\n",
    "       79\n",
    "print(sum)\n",
    "\n",
    "# Expressions enclosed in ( ), [ ] or { } brackets don't need a backward slash for line continuation. For example,\n",
    "vowels = ['a', 'e', 'i',\n",
    "          'o', 'u']\n",
    "\n",
    "print(vowels)"
   ]
  },
  {
   "cell_type": "markdown",
   "metadata": {},
   "source": [
    "# String   "
   ]
  },
  {
   "cell_type": "code",
   "execution_count": 29,
   "metadata": {},
   "outputs": [
    {
     "name": "stdout",
     "output_type": "stream",
     "text": [
      "hello there\n",
      "HELLO THERE\n",
      "HEllo There\n",
      "'You must be the change you wish to see in the world' - Gandhi\n",
      "\"You must be the change you wish to see in the world\" – Gandhi\n",
      "\"\"\"\"\"\n",
      "Repeat Repeat Repeat \n",
      "True\n",
      "False\n"
     ]
    }
   ],
   "source": [
    "# formatting, input, subtring(substr), slicing, string functions\n",
    "\n",
    "s=\"HEllo There\"\n",
    "print(str.lower(s))\n",
    "print(str.upper(s)) # string.\n",
    "print(s) # NOTE : original string in not changes here, you have save it by assigning it to new/smae variable to save it \n",
    "\n",
    "# escape sequence : to print quotes also\n",
    "print (\"'You must be the change you wish to see in the world' - Gandhi\");\n",
    "print (\"\\\"You must be the change you wish to see in the world\\\" – Gandhi\");\n",
    "print (\"\\\"\\\"\\\"\\\"\\\"\"); # only 5 time quotes : using \\ as esc seq\n",
    "\n",
    "print(\"Repeat \"*3)\n",
    "\n",
    "# check existence: in & not in (can be use with sequences like string list tuple)\n",
    "print(\"won\" in \"india won the match\")\n",
    "print(\"won\" not in \"india won the match\")\n"
   ]
  },
  {
   "cell_type": "code",
   "execution_count": 46,
   "metadata": {},
   "outputs": [
    {
     "name": "stdout",
     "output_type": "stream",
     "text": [
      "1\n",
      "True\n",
      "True\n",
      "Hello, India\n",
      "['Hello World', ' Welcome to the Python tutorial']\n",
      "['Hello', 'World!', 'Welcome', 'to', 'the', 'Python', 'tutorial']\n"
     ]
    }
   ],
   "source": [
    "s = \"Hello\"\n",
    "ss = \"ell\"\n",
    "print (s.find(ss))\n",
    "print (\"hello, world\".islower())\n",
    "print (\"HELLO, WORLD\".isupper());\n",
    "print (\"Hello, World\".replace(\"World\", \"India\"));\n",
    "\n",
    "# split()\n",
    "mystring = \"Hello World! Welcome to the Python tutorial\"\n",
    "print (mystring.split(\"!\"))\n",
    "myNEWstring = mystring.split(\" \")\n",
    "print(myNEWstring)"
   ]
  },
  {
   "cell_type": "markdown",
   "metadata": {},
   "source": [
    "## Input & Output"
   ]
  },
  {
   "cell_type": "code",
   "execution_count": 24,
   "metadata": {},
   "outputs": [],
   "source": []
  },
  {
   "cell_type": "markdown",
   "metadata": {},
   "source": [
    "# Data types"
   ]
  },
  {
   "cell_type": "code",
   "execution_count": null,
   "metadata": {},
   "outputs": [],
   "source": [
    "x = None \n",
    "#Think of a scenario where you don't want the variable to have any value\n",
    "# x will have no value\n",
    "\n",
    "# sequences: string, list, tuple\n",
    "s=\"\" #string: mutable,ordered\n",
    "lis=[] #list: mutable,ordered\n",
    "tup=() #tuple: immutable,ordered  , faster in implementation  than list\n",
    "ss = #set : immutable,unordered, no duplicate entry\n",
    "d= {} #dictonary : unordered,mutable, key-value pair"
   ]
  },
  {
   "cell_type": "code",
   "execution_count": 52,
   "metadata": {},
   "outputs": [
    {
     "name": "stdout",
     "output_type": "stream",
     "text": [
      "2\n",
      "0\n",
      "[4, 2, 9]\n",
      "9\n",
      "range(0, 9)\n",
      "3\n",
      "range(5, 9)\n"
     ]
    }
   ],
   "source": [
    "fruits = [1, 4, 2, 9, 7, 8, 9, 3, 1]\n",
    "x = fruits.count(9)\n",
    "print(x)\n",
    "x = fruits.count(192)\n",
    "print(x)\n",
    "\n",
    "newFruit = fruits[1:4]\n",
    "print(newFruit)\n",
    "\n",
    "newFruit = fruits[-3] \n",
    "print(newFruit)\n",
    "\n",
    "myList = range(9)\n",
    "print(myList)\n",
    "print(myList[3])\n",
    "myList1 = range(5, 9)\n",
    "print(myList1)"
   ]
  },
  {
   "cell_type": "markdown",
   "metadata": {},
   "source": [
    "# Type casting"
   ]
  },
  {
   "cell_type": "code",
   "execution_count": 35,
   "metadata": {},
   "outputs": [
    {
     "name": "stdout",
     "output_type": "stream",
     "text": [
      "int type:123 -- float type:123.0 --string type:123 \n"
     ]
    }
   ],
   "source": [
    "numStr = '123'\n",
    "numFloat = float(numStr)\n",
    "numInt = int(numFloat)\n",
    "nums=str(numInt)\n",
    "print(\"int type:{} -- float type:{} --string type:{} \".format(numInt,numFloat,nums))"
   ]
  },
  {
   "cell_type": "markdown",
   "metadata": {},
   "source": [
    "# Slicing"
   ]
  },
  {
   "cell_type": "code",
   "execution_count": 37,
   "metadata": {},
   "outputs": [
    {
     "name": "stdout",
     "output_type": "stream",
     "text": [
      "ell\n",
      "HloBo\n"
     ]
    }
   ],
   "source": [
    "# string_name[starting_index : finishing_index : character_iterate]\n",
    "s = \"Hello Brother!\"\n",
    "print(s[1:4])\n",
    "print(s[0:10:2]); # start 0 : end at 9(i.e. 10-1) : 2 is the jump"
   ]
  },
  {
   "cell_type": "markdown",
   "metadata": {},
   "source": [
    "# Loops & Lists"
   ]
  },
  {
   "cell_type": "code",
   "execution_count": 68,
   "metadata": {},
   "outputs": [
    {
     "name": "stdout",
     "output_type": "stream",
     "text": [
      "[0, 1, 4, 9, 16]\n",
      "[0, 1, 4, 9, 16, 'hellp']\n",
      "==========\n",
      "Last Of Us\n",
      "Doom\n",
      "Dota\n",
      "Halo\n",
      " \n",
      "==========\n",
      "[6, 8, 10, 12]\n",
      "==========\n",
      "[6, 8, 10, 12]\n",
      "[6, 8, 10]\n",
      "[8, 10]\n",
      "[8]\n"
     ]
    }
   ],
   "source": [
    "myQuickList = [x**2 for x in range(5)]\n",
    "print(myQuickList)\n",
    "myQuickList.append(\"hellp\")\n",
    "print(myQuickList)\n",
    "\n",
    "print(\"==========\")\n",
    "myList = ['Last Of Us', 'Doom', 'Dota', 'Halo', ' ']\n",
    "for x in myList:\n",
    "\tprint (x)\n",
    "    \n",
    "print(\"==========\")\n",
    "i = 0\n",
    "A = [1, 2, 3, 4]\n",
    "B = [5, 6, 7, 8]\n",
    "C = []\n",
    "while i < len(A):\n",
    "    C.append(A[i]+B[i]);\n",
    "    i=i+1\n",
    "print(C)\n",
    "\n",
    "print(\"==========\")\n",
    "a=[]\n",
    "for x, y in zip(A, B):\n",
    "\ta.append(x+y)\n",
    "print(a)\n",
    "\n",
    "a.pop() # pop from last\n",
    "print(a)\n",
    "\n",
    "del a[0] # delete an element at index\n",
    "print(a)\n",
    "\n",
    "a.remove(10) # delete an element \n",
    "print(a)"
   ]
  },
  {
   "cell_type": "code",
   "execution_count": 74,
   "metadata": {},
   "outputs": [
    {
     "ename": "ModuleNotFoundError",
     "evalue": "No module named 'str'",
     "output_type": "error",
     "traceback": [
      "\u001b[1;31m---------------------------------------------------------------------------\u001b[0m",
      "\u001b[1;31mModuleNotFoundError\u001b[0m                       Traceback (most recent call last)",
      "\u001b[1;32m<ipython-input-74-d0ee5acad067>\u001b[0m in \u001b[0;36m<module>\u001b[1;34m\u001b[0m\n\u001b[0;32m      1\u001b[0m \u001b[1;31m# Convert a List to String\u001b[0m\u001b[1;33m\u001b[0m\u001b[1;33m\u001b[0m\u001b[1;33m\u001b[0m\u001b[0m\n\u001b[1;32m----> 2\u001b[1;33m \u001b[1;32mimport\u001b[0m \u001b[0mstr\u001b[0m\u001b[1;33m\u001b[0m\u001b[1;33m\u001b[0m\u001b[0m\n\u001b[0m\u001b[0;32m      3\u001b[0m \u001b[0mmylist\u001b[0m \u001b[1;33m=\u001b[0m \u001b[1;33m[\u001b[0m\u001b[1;34m'butter'\u001b[0m\u001b[1;33m,\u001b[0m \u001b[1;34m'jam'\u001b[0m\u001b[1;33m,\u001b[0m \u001b[1;34m'curd'\u001b[0m\u001b[1;33m]\u001b[0m\u001b[1;33m\u001b[0m\u001b[1;33m\u001b[0m\u001b[0m\n\u001b[0;32m      4\u001b[0m \u001b[0mmyStr\u001b[0m \u001b[1;33m=\u001b[0m \u001b[1;34m', '\u001b[0m\u001b[1;33m.\u001b[0m\u001b[0mjoin\u001b[0m\u001b[1;33m(\u001b[0m\u001b[0mmylist\u001b[0m\u001b[1;33m)\u001b[0m\u001b[1;33m\u001b[0m\u001b[1;33m\u001b[0m\u001b[0m\n\u001b[0;32m      5\u001b[0m \u001b[0mprint\u001b[0m \u001b[1;33m(\u001b[0m\u001b[0mmyStr\u001b[0m\u001b[1;33m)\u001b[0m\u001b[1;33m;\u001b[0m\u001b[1;33m\u001b[0m\u001b[1;33m\u001b[0m\u001b[0m\n",
      "\u001b[1;31mModuleNotFoundError\u001b[0m: No module named 'str'"
     ]
    }
   ],
   "source": [
    "# Convert a List to String\n",
    "mylist = ['butter', 'jam', 'curd']\n",
    "myStr = ', '.join(mylist)\n",
    "print (myStr);\n",
    "\n",
    "# mylist1 = [1, 11, 111]\n",
    "# myStr1 = str(mylist1).strip('[]')\n",
    "# print (myStr1);\n",
    "\n",
    "# mylist2 = [1, 11, 111]\n",
    "# myStr2 = ''.join(str(e) for e in mylist2)\n",
    "# print (myStr2)\n",
    "\n"
   ]
  },
  {
   "cell_type": "code",
   "execution_count": 82,
   "metadata": {},
   "outputs": [
    {
     "name": "stdout",
     "output_type": "stream",
     "text": [
      "['Python', 'JavaScript', 'C++', 'Java', 'Ruby', 'Perl']\n",
      "['Perl', 'Ruby', 'Java', 'C++', 'JavaScript', 'Python']\n",
      "['C++', 'Java', 'JavaScript', 'Perl', 'Python', 'Ruby']\n",
      "['Ruby', 'Python', 'Perl', 'JavaScript', 'Java', 'C++']\n"
     ]
    }
   ],
   "source": [
    "myList = ['Python', 'C++', 'Java', 'Ruby', 'Perl']\n",
    "myList.insert(1, 'JavaScript')\n",
    "print (myList)\n",
    "\n",
    "myList.reverse()\n",
    "print(myList)\n",
    "\n",
    "myList.sort() # ascending sort\n",
    "print(myList)\n",
    "\n",
    "myList.sort()\n",
    "myList.reverse() # descending sort\n",
    "print(myList)\n"
   ]
  }
 ],
 "metadata": {
  "kernelspec": {
   "display_name": "Python 3",
   "language": "python",
   "name": "python3"
  },
  "language_info": {
   "codemirror_mode": {
    "name": "ipython",
    "version": 3
   },
   "file_extension": ".py",
   "mimetype": "text/x-python",
   "name": "python",
   "nbconvert_exporter": "python",
   "pygments_lexer": "ipython3",
   "version": "3.7.6"
  }
 },
 "nbformat": 4,
 "nbformat_minor": 4
}
