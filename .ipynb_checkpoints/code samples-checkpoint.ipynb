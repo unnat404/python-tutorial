{
 "cells": [
  {
   "cell_type": "code",
   "execution_count": 1,
   "metadata": {},
   "outputs": [
    {
     "name": "stdout",
     "output_type": "stream",
     "text": [
      "30012,250232,53201,3004355,124111\n",
      "300123004355\n"
     ]
    }
   ],
   "source": [
    "# infytq question 1\n",
    "\n",
    "inarr = [x for x in input().split(',')]\n",
    "# print(inarr)\n",
    "s={}\n",
    "tem = []\n",
    "for i in range(0,len(inarr)):\n",
    "    for j in range(i+2,len(inarr)):\n",
    "        # print('{} - {}\\n'.format(i,j))\n",
    "        s=set(inarr[i]+inarr[j])\n",
    "        if (len(s)==6):\n",
    "            tem.append(inarr[i]+inarr[j])\n",
    "        \n",
    "if(len(tem)==0):\n",
    "    print(\"-1\")\n",
    "else:\n",
    "    max_len = 0\n",
    "    ans=\"\"\n",
    "    for i in reversed(range(0,len(tem))):\n",
    "        if(len(tem[i])>=max_len):\n",
    "            ans=tem[i]\n",
    "            max_len=len(tem[i])\n",
    "    print(ans)\n",
    "# 30012,250232,53201,3004355,124111        \n",
    "        \n",
    "    "
   ]
  },
  {
   "cell_type": "code",
   "execution_count": 2,
   "metadata": {},
   "outputs": [
    {
     "name": "stdout",
     "output_type": "stream",
     "text": [
      "t\n",
      "4\n",
      "['bat', 'rat']\n"
     ]
    },
    {
     "data": {
      "text/plain": [
       "['cat', 'bat', 'rat']"
      ]
     },
     "execution_count": 2,
     "metadata": {},
     "output_type": "execute_result"
    }
   ],
   "source": [
    "s= 'python ' 'there'\n",
    "print(s[7])\n",
    "\n",
    "spam = ['cat', 'bat', 'rat', 'elephant']\n",
    "print(len(spam))\n",
    "print(spam[1:3])\n",
    "spam[0:-1]\n"
   ]
  },
  {
   "cell_type": "code",
   "execution_count": 3,
   "metadata": {},
   "outputs": [
    {
     "name": "stdout",
     "output_type": "stream",
     "text": [
      "This is a paragraph \n",
      "which has multiple lines\n"
     ]
    }
   ],
   "source": [
    "word = 'word'\n",
    "sentence = \"This is a one line sentence.\"\n",
    "para = \"\"\"This is a paragraph \n",
    "which has multiple lines\"\"\"\n",
    "print(para)"
   ]
  },
  {
   "cell_type": "code",
   "execution_count": 8,
   "metadata": {},
   "outputs": [
    {
     "name": "stdout",
     "output_type": "stream",
     "text": [
      "138\n",
      "['a', 'e', 'i', 'o', 'u']\n"
     ]
    }
   ],
   "source": []
  },
  {
   "cell_type": "code",
   "execution_count": null,
   "metadata": {},
   "outputs": [],
   "source": []
  },
  {
   "cell_type": "code",
   "execution_count": 23,
   "metadata": {},
   "outputs": [
    {
     "name": "stdout",
     "output_type": "stream",
     "text": [
      "123\n",
      "3\n",
      "123,111213,31121113\n"
     ]
    }
   ],
   "source": [
    "#  infytq : hrishab 1st qn\n",
    "def count(x):\n",
    "    ns=str(x)    \n",
    "    i=0\n",
    "    final=\"\"\n",
    "    while(i<len(ns)):\n",
    "        cur=ns[i]\n",
    "        j=i+1\n",
    "        while(j<len(ns) and cur==ns[j]):\n",
    "            j=j+1\n",
    "        final=final+str(j-i)+ns[i]\n",
    "        i=j    \n",
    "    return int(final)    \n",
    "    \n",
    "instartnum =int(input())\n",
    "innum=int(input())\n",
    "outintarr=[]\n",
    "outintarr.append(instartnum)\n",
    "for i in range(1,innum):\n",
    "    outintarr.append(count(outintarr[-1]))\n",
    "    \n",
    "# print(outintarr)\n",
    "ans=\"\"\n",
    "for x in outintarr:\n",
    "    ans=ans+str(x)+','\n",
    "ans=ans[0:len(ans)-1]\n",
    "print(ans)\n",
    "    "
   ]
  },
  {
   "cell_type": "code",
   "execution_count": 45,
   "metadata": {},
   "outputs": [
    {
     "name": "stdout",
     "output_type": "stream",
     "text": [
      "2,4,6,8\n",
      "8\n",
      "[[], [8, 6, 8, 6, 4, 8, 6, 4, 2, 8, 6, 4, 2, 8, 6, 4], [8, 6, 8, 6, 4, 8, 6, 4, 2, 8, 6, 4, 2, 8, 6, 4], [8, 6, 8, 6, 4, 8, 6, 4, 2, 8, 6, 4, 2, 8, 6, 4]]\n"
     ]
    }
   ],
   "source": [
    "# infytq question 2 : hrishab,manisha\n",
    "\n",
    "def permute(i,cur_pdt,given_pdt,inarr,temp,ans):\n",
    "#     print(\"hey0: i={} pdt={} \\n\".format(i,cur_pdt))\n",
    "    if(given_pdt==cur_pdt):\n",
    "        ans.append(temp)\n",
    "#         print(\"hey1: i={} pdt={} \\n\".format(i,cur_pdt))\n",
    "        return\n",
    "    if(i>=len(inarr) or given_pdt<cur_pdt):\n",
    "#         print(\"hey2\\n\")\n",
    "        return\n",
    "    \n",
    "#     print(temp)\n",
    "    \n",
    "    # not-take\n",
    "    permute(i+1,cur_pdt,given_pdt,inarr,temp,ans)\n",
    "    # take\n",
    "    temp.append(inarr[i])\n",
    "    permute(i,cur_pdt*inarr[i],given_pdt,inarr,temp,ans)\n",
    "    \n",
    "#     return\n",
    "\n",
    "inarr = [int(x) for x in input().split(',')]\n",
    "inarr.sort()\n",
    "innum = int(input())\n",
    "# print(inarr)\n",
    "ans=[[]]\n",
    "temp=[]\n",
    "permute(0,1,innum,inarr,temp,ans)\n",
    "temp.pop()\n",
    "print(ans)\n",
    "\n",
    "# 2,4,6,8\n",
    "# 16"
   ]
  },
  {
   "cell_type": "code",
   "execution_count": 2,
   "metadata": {},
   "outputs": [
    {
     "name": "stdout",
     "output_type": "stream",
     "text": [
      "-1\n",
      "21212\n"
     ]
    }
   ],
   "source": [
    "# infytq : 1st qn\n",
    "def solve(n):\n",
    "    x=list(str(n))\n",
    "    size=len(x)\n",
    "    freq={}\n",
    "    for c in x:\n",
    "        if(c in freq.keys()): freq[c]+=1\n",
    "        else: freq[c]=1\n",
    "    odd_count=0\n",
    "    odd_chr=''\n",
    "    ans=['0']*size\n",
    "#     print(ans)\n",
    "    st=0\n",
    "    en=size-1\n",
    "    for i in range(9,-1,-1):\n",
    "        if(str(i) not in freq.keys()): continue\n",
    "        if(freq[str(i)]<=0): continue\n",
    "        if(freq[str(i)]%2==1):\n",
    "            odd_count+=1\n",
    "            odd_chr=str(i) #last mein middle\n",
    "        if(odd_count>1): return -1\n",
    "        \n",
    "        while(freq[str(i)]>=2):\n",
    "            ans[st]=str(i)\n",
    "            ans[en]=str(i)\n",
    "            freq[str(i)]-=2\n",
    "            st+=1\n",
    "            en-=1\n",
    "    \n",
    "    if(odd_count==1):\n",
    "        ans[size//2]=odd_chr\n",
    "    \n",
    "    return int(\"\".join(ans))\n",
    "\n",
    "\n",
    "print(solve(1234))\n",
    "print(solve(12221))\n",
    "    \n",
    "    "
   ]
  },
  {
   "cell_type": "code",
   "execution_count": 7,
   "metadata": {},
   "outputs": [
    {
     "name": "stdout",
     "output_type": "stream",
     "text": [
      "ABC\n",
      "ACB\n",
      "BAC\n",
      "BCA\n",
      "CBA\n",
      "CAB\n"
     ]
    }
   ],
   "source": [
    "# Python program to print all permutations : Method 1\n",
    "# with duplicates allowed\n",
    "def toString(List):\n",
    "\treturn ''.join(List)\n",
    "\n",
    "# Function to print permutations\n",
    "# of string\n",
    "# This function takes three parameters:\n",
    "# 1. String\n",
    "# 2. Starting index of the string\n",
    "# 3. Ending index of the string.\n",
    "def permute(a, l, r):\n",
    "\tif l == r:\n",
    "\t\tprint (toString(a))\n",
    "\telse:\n",
    "\t\tfor i in range(l, r + 1):\n",
    "\t\t\ta[l], a[i] = a[i], a[l]\n",
    "\t\t\tpermute(a, l + 1, r)\n",
    "\n",
    "\t\t\t# backtrack\n",
    "\t\t\ta[l], a[i] = a[i], a[l]\n",
    "\n",
    "# Driver code\n",
    "string = \"ABC\"\n",
    "n = len(string)\n",
    "a = list(string)\n",
    "permute(a, 0, n-1)\n",
    "# This code is contributed by Bhavya Jain\n"
   ]
  },
  {
   "cell_type": "code",
   "execution_count": 6,
   "metadata": {},
   "outputs": [
    {
     "name": "stdout",
     "output_type": "stream",
     "text": [
      "Enter the string : abc\n",
      "All possible strings are : \n",
      "abc acb bac bca cab cba "
     ]
    }
   ],
   "source": [
    "# Python program to implement : all permutations of a string  : Method 2\n",
    "# the above approach\n",
    "def permute(s, answer):\n",
    "\tif (len(s) == 0):\n",
    "\t\tprint(answer, end = \" \")\n",
    "\t\treturn\n",
    "\t\n",
    "\tfor i in range(len(s)):\n",
    "\t\tch = s[i]\n",
    "\t\tleft_substr = s[0:i]\n",
    "\t\tright_substr = s[i + 1:]\n",
    "\t\trest = left_substr + right_substr\n",
    "\t\tpermute(rest, answer + ch)\n",
    "\n",
    "# Driver Code\n",
    "answer = \"\"\n",
    "s = input(\"Enter the string : \")\n",
    "print(\"All possible strings are : \")\n",
    "permute(s, answer)\n",
    "# This code is contributed by Harshit Srivastava\n"
   ]
  },
  {
   "cell_type": "code",
   "execution_count": 5,
   "metadata": {},
   "outputs": [
    {
     "name": "stdout",
     "output_type": "stream",
     "text": [
      "0 1 2 3 4 5 6 7 8 9 \n",
      "10 20 30 40 \n",
      "10 9 8 7 6 5 4 3 2 1 \n",
      "Sum of first 10 natural number : 55\n"
     ]
    }
   ],
   "source": [
    "# Python Program to\n",
    "# show range() basics\n",
    "\n",
    "# printing a number\n",
    "for i in range(10):\n",
    "\tprint(i, end=\" \")\n",
    "print()\n",
    "\n",
    "# using range for iteration\n",
    "l = [10, 20, 30, 40]\n",
    "for i in range(len(l)):\n",
    "\tprint(l[i], end=\" \")\n",
    "print()\n",
    "\n",
    "# performing sum of natural\n",
    "# number\n",
    "sum = 0\n",
    "for i in range(10,0,-1):\n",
    "    sum = sum + i\n",
    "    print(i,end=\" \")\n",
    "    \n",
    "print(\"\\nSum of first 10 natural number :\", sum)\n"
   ]
  },
  {
   "cell_type": "code",
   "execution_count": 4,
   "metadata": {},
   "outputs": [
    {
     "name": "stdout",
     "output_type": "stream",
     "text": [
      "Enter the string : abc\n",
      "All possible strings are : \n",
      "abc acb bac bca cab cba "
     ]
    }
   ],
   "source": []
  },
  {
   "cell_type": "code",
   "execution_count": null,
   "metadata": {},
   "outputs": [],
   "source": []
  }
 ],
 "metadata": {
  "kernelspec": {
   "display_name": "Python 3",
   "language": "python",
   "name": "python3"
  },
  "language_info": {
   "codemirror_mode": {
    "name": "ipython",
    "version": 3
   },
   "file_extension": ".py",
   "mimetype": "text/x-python",
   "name": "python",
   "nbconvert_exporter": "python",
   "pygments_lexer": "ipython3",
   "version": "3.7.6"
  }
 },
 "nbformat": 4,
 "nbformat_minor": 4
}
