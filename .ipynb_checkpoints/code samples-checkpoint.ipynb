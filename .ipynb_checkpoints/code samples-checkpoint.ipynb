{
 "cells": [
  {
   "cell_type": "code",
   "execution_count": 1,
   "metadata": {},
   "outputs": [
    {
     "name": "stdout",
     "output_type": "stream",
     "text": [
      "30012,250232,53201,3004355,124111\n",
      "300123004355\n"
     ]
    }
   ],
   "source": [
    "# infytq question 1\n",
    "\n",
    "inarr = [x for x in input().split(',')]\n",
    "# print(inarr)\n",
    "s={}\n",
    "tem = []\n",
    "for i in range(0,len(inarr)):\n",
    "    for j in range(i+2,len(inarr)):\n",
    "        # print('{} - {}\\n'.format(i,j))\n",
    "        s=set(inarr[i]+inarr[j])\n",
    "        if (len(s)==6):\n",
    "            tem.append(inarr[i]+inarr[j])\n",
    "        \n",
    "if(len(tem)==0):\n",
    "    print(\"-1\")\n",
    "else:\n",
    "    max_len = 0\n",
    "    ans=\"\"\n",
    "    for i in reversed(range(0,len(tem))):\n",
    "        if(len(tem[i])>=max_len):\n",
    "            ans=tem[i]\n",
    "            max_len=len(tem[i])\n",
    "    print(ans)\n",
    "# 30012,250232,53201,3004355,124111        \n",
    "        \n",
    "    "
   ]
  },
  {
   "cell_type": "code",
   "execution_count": 2,
   "metadata": {},
   "outputs": [
    {
     "name": "stdout",
     "output_type": "stream",
     "text": [
      "t\n",
      "4\n",
      "['bat', 'rat']\n"
     ]
    },
    {
     "data": {
      "text/plain": [
       "['cat', 'bat', 'rat']"
      ]
     },
     "execution_count": 2,
     "metadata": {},
     "output_type": "execute_result"
    }
   ],
   "source": [
    "s= 'python ' 'there'\n",
    "print(s[7])\n",
    "\n",
    "spam = ['cat', 'bat', 'rat', 'elephant']\n",
    "print(len(spam))\n",
    "print(spam[1:3])\n",
    "spam[0:-1]\n"
   ]
  },
  {
   "cell_type": "code",
   "execution_count": 3,
   "metadata": {},
   "outputs": [
    {
     "name": "stdout",
     "output_type": "stream",
     "text": [
      "This is a paragraph \n",
      "which has multiple lines\n"
     ]
    }
   ],
   "source": [
    "word = 'word'\n",
    "sentence = \"This is a one line sentence.\"\n",
    "para = \"\"\"This is a paragraph \n",
    "which has multiple lines\"\"\"\n",
    "print(para)"
   ]
  },
  {
   "cell_type": "code",
   "execution_count": 8,
   "metadata": {},
   "outputs": [
    {
     "name": "stdout",
     "output_type": "stream",
     "text": [
      "138\n",
      "['a', 'e', 'i', 'o', 'u']\n"
     ]
    }
   ],
   "source": []
  },
  {
   "cell_type": "code",
   "execution_count": null,
   "metadata": {},
   "outputs": [],
   "source": []
  },
  {
   "cell_type": "code",
   "execution_count": 23,
   "metadata": {},
   "outputs": [
    {
     "name": "stdout",
     "output_type": "stream",
     "text": [
      "123\n",
      "3\n",
      "123,111213,31121113\n"
     ]
    }
   ],
   "source": [
    "#  infytq : hrishab 1st qn\n",
    "def count(x):\n",
    "    ns=str(x)    \n",
    "    i=0\n",
    "    final=\"\"\n",
    "    while(i<len(ns)):\n",
    "        cur=ns[i]\n",
    "        j=i+1\n",
    "        while(j<len(ns) and cur==ns[j]):\n",
    "            j=j+1\n",
    "        final=final+str(j-i)+ns[i]\n",
    "        i=j    \n",
    "    return int(final)    \n",
    "    \n",
    "instartnum =int(input())\n",
    "innum=int(input())\n",
    "outintarr=[]\n",
    "outintarr.append(instartnum)\n",
    "for i in range(1,innum):\n",
    "    outintarr.append(count(outintarr[-1]))\n",
    "    \n",
    "# print(outintarr)\n",
    "ans=\"\"\n",
    "for x in outintarr:\n",
    "    ans=ans+str(x)+','\n",
    "ans=ans[0:len(ans)-1]\n",
    "print(ans)\n",
    "    "
   ]
  },
  {
   "cell_type": "code",
   "execution_count": 45,
   "metadata": {},
   "outputs": [
    {
     "name": "stdout",
     "output_type": "stream",
     "text": [
      "2,4,6,8\n",
      "8\n",
      "[[], [8, 6, 8, 6, 4, 8, 6, 4, 2, 8, 6, 4, 2, 8, 6, 4], [8, 6, 8, 6, 4, 8, 6, 4, 2, 8, 6, 4, 2, 8, 6, 4], [8, 6, 8, 6, 4, 8, 6, 4, 2, 8, 6, 4, 2, 8, 6, 4]]\n"
     ]
    }
   ],
   "source": [
    "# infytq question 2 : hrishab,manisha\n",
    "\n",
    "def permute(i,cur_pdt,given_pdt,inarr,temp,ans):\n",
    "#     print(\"hey0: i={} pdt={} \\n\".format(i,cur_pdt))\n",
    "    if(given_pdt==cur_pdt):\n",
    "        ans.append(temp)\n",
    "#         print(\"hey1: i={} pdt={} \\n\".format(i,cur_pdt))\n",
    "        return\n",
    "    if(i>=len(inarr) or given_pdt<cur_pdt):\n",
    "#         print(\"hey2\\n\")\n",
    "        return\n",
    "    \n",
    "#     print(temp)\n",
    "    \n",
    "    # not-take\n",
    "    permute(i+1,cur_pdt,given_pdt,inarr,temp,ans)\n",
    "    # take\n",
    "    temp.append(inarr[i])\n",
    "    permute(i,cur_pdt*inarr[i],given_pdt,inarr,temp,ans)\n",
    "    \n",
    "#     return\n",
    "\n",
    "inarr = [int(x) for x in input().split(',')]\n",
    "inarr.sort()\n",
    "innum = int(input())\n",
    "# print(inarr)\n",
    "ans=[[]]\n",
    "temp=[]\n",
    "permute(0,1,innum,inarr,temp,ans)\n",
    "temp.pop()\n",
    "print(ans)\n",
    "\n",
    "# 2,4,6,8\n",
    "# 16"
   ]
  }
 ],
 "metadata": {
  "kernelspec": {
   "display_name": "Python 3",
   "language": "python",
   "name": "python3"
  },
  "language_info": {
   "codemirror_mode": {
    "name": "ipython",
    "version": 3
   },
   "file_extension": ".py",
   "mimetype": "text/x-python",
   "name": "python",
   "nbconvert_exporter": "python",
   "pygments_lexer": "ipython3",
   "version": "3.7.6"
  }
 },
 "nbformat": 4,
 "nbformat_minor": 4
}
